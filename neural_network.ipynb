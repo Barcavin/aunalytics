{
 "cells": [
  {
   "cell_type": "code",
   "execution_count": 1,
   "metadata": {},
   "outputs": [
    {
     "name": "stderr",
     "output_type": "stream",
     "text": [
      "/home/kevindong1994/anaconda3/lib/python3.6/site-packages/h5py/__init__.py:36: FutureWarning: Conversion of the second argument of issubdtype from `float` to `np.floating` is deprecated. In future, it will be treated as `np.float64 == np.dtype(float).type`.\n",
      "  from ._conv import register_converters as _register_converters\n"
     ]
    }
   ],
   "source": [
    "from pre import complete_data\n",
    "import matplotlib.pyplot as plt\n",
    "import tensorflow as tf\n",
    "import numpy as np\n",
    "import pandas as pd\n",
    "%matplotlib inline"
   ]
  },
  {
   "cell_type": "code",
   "execution_count": 2,
   "metadata": {},
   "outputs": [],
   "source": [
    "complete_data.loc[complete_data[\"class\"] ==  \" <=50K.\",\"class\"]= \" <=50K\"\n",
    "complete_data.loc[complete_data[\"class\"] ==  \" >50K.\",\"class\"]= \" >50K\""
   ]
  },
  {
   "cell_type": "code",
   "execution_count": 3,
   "metadata": {},
   "outputs": [],
   "source": [
    "complete_data = pd.concat([complete_data,pd.get_dummies(complete_data[\"class\"],prefix = \"class\")],axis=1)"
   ]
  },
  {
   "cell_type": "code",
   "execution_count": 4,
   "metadata": {},
   "outputs": [
    {
     "data": {
      "text/plain": [
       "array(['age', 'workclass', 'fnlwgt', 'education', 'education-num',\n",
       "       'marital-status', 'occupation', 'relationship', 'race', 'sex',\n",
       "       'capital-gain', 'capital-loss', 'hours-per-week', 'native-country',\n",
       "       'class', 'workclass_ Federal-gov', 'workclass_ Local-gov',\n",
       "       'workclass_ Never-worked', 'workclass_ Private',\n",
       "       'workclass_ Self-emp-inc', 'workclass_ Self-emp-not-inc',\n",
       "       'workclass_ State-gov', 'workclass_ Without-pay',\n",
       "       'education_ 11th', 'education_ 12th', 'education_ 1st-4th',\n",
       "       'education_ 5th-6th', 'education_ 7th-8th', 'education_ 9th',\n",
       "       'education_ Assoc-acdm', 'education_ Assoc-voc',\n",
       "       'education_ Bachelors', 'education_ Doctorate',\n",
       "       'education_ HS-grad', 'education_ Masters', 'education_ Preschool',\n",
       "       'education_ Prof-school', 'education_ Some-college',\n",
       "       'marital-status_ Married-AF-spouse',\n",
       "       'marital-status_ Married-civ-spouse',\n",
       "       'marital-status_ Married-spouse-absent',\n",
       "       'marital-status_ Never-married', 'marital-status_ Separated',\n",
       "       'marital-status_ Widowed', 'occupation_ Adm-clerical',\n",
       "       'occupation_ Armed-Forces', 'occupation_ Craft-repair',\n",
       "       'occupation_ Exec-managerial', 'occupation_ Farming-fishing',\n",
       "       'occupation_ Handlers-cleaners', 'occupation_ Machine-op-inspct',\n",
       "       'occupation_ Other-service', 'occupation_ Priv-house-serv',\n",
       "       'occupation_ Prof-specialty', 'occupation_ Protective-serv',\n",
       "       'occupation_ Sales', 'occupation_ Tech-support',\n",
       "       'occupation_ Transport-moving', 'relationship_ Not-in-family',\n",
       "       'relationship_ Other-relative', 'relationship_ Own-child',\n",
       "       'relationship_ Unmarried', 'relationship_ Wife',\n",
       "       'race_ Asian-Pac-Islander', 'race_ Black', 'race_ Other',\n",
       "       'race_ White', 'sex_ Male', 'native-country_ Cambodia',\n",
       "       'native-country_ Canada', 'native-country_ China',\n",
       "       'native-country_ Columbia', 'native-country_ Cuba',\n",
       "       'native-country_ Dominican-Republic', 'native-country_ Ecuador',\n",
       "       'native-country_ El-Salvador', 'native-country_ England',\n",
       "       'native-country_ France', 'native-country_ Germany',\n",
       "       'native-country_ Greece', 'native-country_ Guatemala',\n",
       "       'native-country_ Haiti', 'native-country_ Holand-Netherlands',\n",
       "       'native-country_ Honduras', 'native-country_ Hong',\n",
       "       'native-country_ Hungary', 'native-country_ India',\n",
       "       'native-country_ Iran', 'native-country_ Ireland',\n",
       "       'native-country_ Italy', 'native-country_ Jamaica',\n",
       "       'native-country_ Japan', 'native-country_ Laos',\n",
       "       'native-country_ Mexico', 'native-country_ Nicaragua',\n",
       "       'native-country_ Outlying-US(Guam-USVI-etc)',\n",
       "       'native-country_ Peru', 'native-country_ Philippines',\n",
       "       'native-country_ Poland', 'native-country_ Portugal',\n",
       "       'native-country_ Puerto-Rico', 'native-country_ Scotland',\n",
       "       'native-country_ South', 'native-country_ Taiwan',\n",
       "       'native-country_ Thailand', 'native-country_ Trinadad&Tobago',\n",
       "       'native-country_ United-States', 'native-country_ Vietnam',\n",
       "       'native-country_ Yugoslavia', 'class_ <=50K', 'class_ >50K'],\n",
       "      dtype=object)"
      ]
     },
     "execution_count": 4,
     "metadata": {},
     "output_type": "execute_result"
    }
   ],
   "source": [
    "complete_data.columns.values"
   ]
  },
  {
   "cell_type": "code",
   "execution_count": 5,
   "metadata": {},
   "outputs": [
    {
     "name": "stdout",
     "output_type": "stream",
     "text": [
      "Initialized\n"
     ]
    }
   ],
   "source": [
    "batch = 100\n",
    "H = 30\n",
    "learning_rate = 0.01\n",
    "epochs = 30\n",
    "\n",
    "graph = tf.Graph()\n",
    "with graph.as_default():\n",
    "    x = tf.placeholder(tf.float32,shape=[None,complete_data.shape[1]-11]) # remove \"class\" and \"Y\"\n",
    "    y = tf.placeholder(tf.float32,shape = [None,2])\n",
    "    W_1 = tf.Variable(tf.random_normal([complete_data.shape[1]-11,H],0,0.1))\n",
    "    b_1 = tf.Variable(tf.zeros([H]))\n",
    "    \n",
    "    W_2 = tf.Variable(tf.random_normal([H,2],0,0.1))\n",
    "    b_2 = tf.Variable(tf.zeros([2]))\n",
    "    \n",
    "    temp_1 = tf.nn.relu(tf.matmul(x,W_1) + b_1)\n",
    "    temp_2 = tf.nn.softmax(tf.matmul(temp_1,W_2) + b_2)\n",
    "    \n",
    "    # loss = tf.reduce_mean(-tf.reduce_sum(y*tf.log(temp_2), reduction_indices=1))\n",
    "    loss = tf.losses.mean_squared_error(temp_2,y)\n",
    "    optimizer = tf.train.AdamOptimizer(learning_rate).minimize(loss)\n",
    "    \n",
    "    init = tf.global_variables_initializer()\n",
    "    \n",
    "sess = tf.InteractiveSession(graph=graph)\n",
    "sess.run(init)\n",
    "print(\"Initialized\")"
   ]
  },
  {
   "cell_type": "code",
   "execution_count": 6,
   "metadata": {},
   "outputs": [],
   "source": [
    "index = 0\n",
    "epoch = 0\n",
    "def generate_batch(batch_size):\n",
    "    global index\n",
    "    global epoch\n",
    "    batch_size -=1\n",
    "    a = complete_data.loc[\"train\"].drop(list(complete_data.loc[\"train\"].select_dtypes(include=\"object\").dtypes.index)+[\"class_ <=50K\",\"class_ >50K\"], axis=1)\n",
    "    if index + batch_size < complete_data.loc[\"train\"].shape[0]:\n",
    "        ori_index = index\n",
    "        index += batch_size\n",
    "        return a.loc[ori_index:index,],complete_data.loc[\"train\"].loc[ori_index:index,[\"class_ <=50K\",\"class_ >50K\"]]\n",
    "    else:\n",
    "        epoch +=1\n",
    "        ori_index = index\n",
    "        index += batch_size\n",
    "        index -= complete_data.loc[\"train\"].shape[0]\n",
    "        return pd.concat([a.loc[ori_index:,],a.loc[:index,]]),pd.concat([complete_data.loc[\"train\"].loc[ori_index:,[\"class_ <=50K\",\"class_ >50K\"]],complete_data.loc[\"train\"].loc[:index,[\"class_ <=50K\",\"class_ >50K\"]]])"
   ]
  },
  {
   "cell_type": "code",
   "execution_count": null,
   "metadata": {},
   "outputs": [],
   "source": [
    "step = 0 \n",
    "while epoch<epochs:\n",
    "    step+=1\n",
    "    batch_x,batch_y = generate_batch(batch)\n",
    "    feed_dict={x:batch_x,y:batch_y}\n",
    "    _,loss_val = sess.run([optimizer,loss],feed_dict=feed_dict)\n",
    "    if step % 50 == 0:\n",
    "        print(\"Step: %i, Epoch: %i, Loss:%f\"%(step,epoch,loss_val))\n",
    " "
   ]
  },
  {
   "cell_type": "code",
   "execution_count": null,
   "metadata": {
    "scrolled": true
   },
   "outputs": [],
   "source": [
    "complete_data.loc[\"train\"].drop(list(complete_data.loc[\"train\"].select_dtypes(include=\"object\").dtypes.index)+[\"class_ <=50K\",\"class_ >50K\"], axis=1).loc[:10,]"
   ]
  },
  {
   "cell_type": "code",
   "execution_count": null,
   "metadata": {},
   "outputs": [],
   "source": [
    "complete_data.loc[\"train\"].loc[:10,[\"class_ <=50K\",\"class_ >50K\"]]"
   ]
  },
  {
   "cell_type": "code",
   "execution_count": null,
   "metadata": {},
   "outputs": [],
   "source": []
  }
 ],
 "metadata": {
  "kernelspec": {
   "display_name": "Python 3",
   "language": "python",
   "name": "python3"
  },
  "language_info": {
   "codemirror_mode": {
    "name": "ipython",
    "version": 3
   },
   "file_extension": ".py",
   "mimetype": "text/x-python",
   "name": "python",
   "nbconvert_exporter": "python",
   "pygments_lexer": "ipython3",
   "version": "3.6.4"
  }
 },
 "nbformat": 4,
 "nbformat_minor": 2
}
