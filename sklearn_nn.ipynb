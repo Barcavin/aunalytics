{
 "cells": [
  {
   "cell_type": "code",
   "execution_count": 1,
   "metadata": {},
   "outputs": [
    {
     "name": "stderr",
     "output_type": "stream",
     "text": [
      "/home/kevindong1994/anaconda3/lib/python3.6/site-packages/h5py/__init__.py:36: FutureWarning: Conversion of the second argument of issubdtype from `float` to `np.floating` is deprecated. In future, it will be treated as `np.float64 == np.dtype(float).type`.\n",
      "  from ._conv import register_converters as _register_converters\n"
     ]
    }
   ],
   "source": [
    "from pre import complete_data\n",
    "import matplotlib.pyplot as plt\n",
    "import tensorflow as tf\n",
    "import numpy as np\n",
    "import pandas as pd\n",
    "%matplotlib inline"
   ]
  },
  {
   "cell_type": "code",
   "execution_count": 2,
   "metadata": {},
   "outputs": [],
   "source": [
    "complete_data.loc[complete_data[\"class\"] ==  \" <=50K.\",\"class\"]= \" <=50K\"\n",
    "complete_data.loc[complete_data[\"class\"] ==  \" >50K.\",\"class\"]= \" >50K\""
   ]
  },
  {
   "cell_type": "code",
   "execution_count": 3,
   "metadata": {},
   "outputs": [],
   "source": [
    "complete_data = pd.concat([complete_data,pd.get_dummies(complete_data[\"class\"],prefix = \"class\",drop_first=True)],axis=1)"
   ]
  },
  {
   "cell_type": "code",
   "execution_count": 4,
   "metadata": {},
   "outputs": [
    {
     "data": {
      "text/plain": [
       "array(['age', 'workclass', 'fnlwgt', 'education', 'education-num',\n",
       "       'marital-status', 'occupation', 'relationship', 'race', 'sex',\n",
       "       'capital-gain', 'capital-loss', 'hours-per-week', 'native-country',\n",
       "       'class', 'workclass_ Federal-gov', 'workclass_ Local-gov',\n",
       "       'workclass_ Never-worked', 'workclass_ Private',\n",
       "       'workclass_ Self-emp-inc', 'workclass_ Self-emp-not-inc',\n",
       "       'workclass_ State-gov', 'workclass_ Without-pay',\n",
       "       'education_ 11th', 'education_ 12th', 'education_ 1st-4th',\n",
       "       'education_ 5th-6th', 'education_ 7th-8th', 'education_ 9th',\n",
       "       'education_ Assoc-acdm', 'education_ Assoc-voc',\n",
       "       'education_ Bachelors', 'education_ Doctorate',\n",
       "       'education_ HS-grad', 'education_ Masters', 'education_ Preschool',\n",
       "       'education_ Prof-school', 'education_ Some-college',\n",
       "       'marital-status_ Married-AF-spouse',\n",
       "       'marital-status_ Married-civ-spouse',\n",
       "       'marital-status_ Married-spouse-absent',\n",
       "       'marital-status_ Never-married', 'marital-status_ Separated',\n",
       "       'marital-status_ Widowed', 'occupation_ Adm-clerical',\n",
       "       'occupation_ Armed-Forces', 'occupation_ Craft-repair',\n",
       "       'occupation_ Exec-managerial', 'occupation_ Farming-fishing',\n",
       "       'occupation_ Handlers-cleaners', 'occupation_ Machine-op-inspct',\n",
       "       'occupation_ Other-service', 'occupation_ Priv-house-serv',\n",
       "       'occupation_ Prof-specialty', 'occupation_ Protective-serv',\n",
       "       'occupation_ Sales', 'occupation_ Tech-support',\n",
       "       'occupation_ Transport-moving', 'relationship_ Not-in-family',\n",
       "       'relationship_ Other-relative', 'relationship_ Own-child',\n",
       "       'relationship_ Unmarried', 'relationship_ Wife',\n",
       "       'race_ Asian-Pac-Islander', 'race_ Black', 'race_ Other',\n",
       "       'race_ White', 'sex_ Male', 'native-country_ Cambodia',\n",
       "       'native-country_ Canada', 'native-country_ China',\n",
       "       'native-country_ Columbia', 'native-country_ Cuba',\n",
       "       'native-country_ Dominican-Republic', 'native-country_ Ecuador',\n",
       "       'native-country_ El-Salvador', 'native-country_ England',\n",
       "       'native-country_ France', 'native-country_ Germany',\n",
       "       'native-country_ Greece', 'native-country_ Guatemala',\n",
       "       'native-country_ Haiti', 'native-country_ Holand-Netherlands',\n",
       "       'native-country_ Honduras', 'native-country_ Hong',\n",
       "       'native-country_ Hungary', 'native-country_ India',\n",
       "       'native-country_ Iran', 'native-country_ Ireland',\n",
       "       'native-country_ Italy', 'native-country_ Jamaica',\n",
       "       'native-country_ Japan', 'native-country_ Laos',\n",
       "       'native-country_ Mexico', 'native-country_ Nicaragua',\n",
       "       'native-country_ Outlying-US(Guam-USVI-etc)',\n",
       "       'native-country_ Peru', 'native-country_ Philippines',\n",
       "       'native-country_ Poland', 'native-country_ Portugal',\n",
       "       'native-country_ Puerto-Rico', 'native-country_ Scotland',\n",
       "       'native-country_ South', 'native-country_ Taiwan',\n",
       "       'native-country_ Thailand', 'native-country_ Trinadad&Tobago',\n",
       "       'native-country_ United-States', 'native-country_ Vietnam',\n",
       "       'native-country_ Yugoslavia', 'class_ >50K'], dtype=object)"
      ]
     },
     "execution_count": 4,
     "metadata": {},
     "output_type": "execute_result"
    }
   ],
   "source": [
    "complete_data.columns.values"
   ]
  },
  {
   "cell_type": "code",
   "execution_count": 5,
   "metadata": {},
   "outputs": [],
   "source": [
    "X = complete_data.loc[\"train\"].drop(list(complete_data.loc[\"train\"].select_dtypes(include=\"object\").dtypes.index)+[\"class_ >50K\"], axis=1)\n",
    "y = complete_data.loc[\"train\"][\"class_ >50K\"]"
   ]
  },
  {
   "cell_type": "code",
   "execution_count": 6,
   "metadata": {},
   "outputs": [
    {
     "data": {
      "text/plain": [
       "MLPClassifier(activation='relu', alpha=0.0001, batch_size='auto', beta_1=0.9,\n",
       "       beta_2=0.999, early_stopping=False, epsilon=1e-08,\n",
       "       hidden_layer_sizes=(15, 5), learning_rate='constant',\n",
       "       learning_rate_init=0.001, max_iter=1000, momentum=0.9,\n",
       "       nesterovs_momentum=True, power_t=0.5, random_state=24, shuffle=True,\n",
       "       solver='adam', tol=1e-06, validation_fraction=0.1, verbose=False,\n",
       "       warm_start=False)"
      ]
     },
     "execution_count": 6,
     "metadata": {},
     "output_type": "execute_result"
    }
   ],
   "source": [
    "from sklearn.neural_network import MLPClassifier\n",
    "clf = MLPClassifier(solver='adam', alpha=1e-4,hidden_layer_sizes=(15,5), random_state=24,max_iter=1000,tol=1e-6)\n",
    "clf.fit(X, y)"
   ]
  },
  {
   "cell_type": "code",
   "execution_count": 7,
   "metadata": {},
   "outputs": [],
   "source": [
    "X_test = complete_data.loc[\"test\"].drop(list(complete_data.loc[\"train\"].select_dtypes(include=\"object\").dtypes.index)+[\"class_ >50K\"], axis=1)\n",
    "y_test = complete_data.loc[\"test\"][\"class_ >50K\"]"
   ]
  },
  {
   "cell_type": "code",
   "execution_count": 8,
   "metadata": {},
   "outputs": [],
   "source": [
    "p = clf.predict(X_test)\n",
    "p_proba = clf.predict_proba(X_test)"
   ]
  },
  {
   "cell_type": "markdown",
   "metadata": {},
   "source": [
    "# The accuracy is: "
   ]
  },
  {
   "cell_type": "code",
   "execution_count": 9,
   "metadata": {},
   "outputs": [
    {
     "name": "stdout",
     "output_type": "stream",
     "text": [
      "0.7958970579202752\n"
     ]
    }
   ],
   "source": [
    "from sklearn.metrics import accuracy_score\n",
    "print(accuracy_score(p,y_test))"
   ]
  },
  {
   "cell_type": "markdown",
   "metadata": {},
   "source": [
    "# Confusion matrix:"
   ]
  },
  {
   "cell_type": "code",
   "execution_count": 10,
   "metadata": {},
   "outputs": [
    {
     "name": "stdout",
     "output_type": "stream",
     "text": [
      "[[12200   235]\n",
      " [ 3088   758]]\n"
     ]
    }
   ],
   "source": [
    "# Confusion matrix\n",
    "from sklearn.metrics import confusion_matrix\n",
    "print(confusion_matrix(y_test,p))"
   ]
  },
  {
   "cell_type": "markdown",
   "metadata": {},
   "source": [
    "|Confusion matrix| Predicted True| Predicted False|\n",
    "|---------|-------|------|\n",
    "|Condition True|12200 |235|\n",
    "|Condition False|3088 | 758|\n",
    "\n",
    "(True:<=50K,False:>50K)"
   ]
  },
  {
   "cell_type": "markdown",
   "metadata": {},
   "source": [
    "# AUC ROC"
   ]
  },
  {
   "cell_type": "code",
   "execution_count": 11,
   "metadata": {},
   "outputs": [
    {
     "name": "stdout",
     "output_type": "stream",
     "text": [
      "0.6149255901880627\n"
     ]
    }
   ],
   "source": [
    "from sklearn.metrics import roc_auc_score\n",
    "print(roc_auc_score(y_test,p_proba[:,1],average=\"weighted\")) # \"weighted\" accounts for class imbalance by computing the average of binary metrics in which each class’s score is weighted by its presence in the true data sample."
   ]
  },
  {
   "cell_type": "markdown",
   "metadata": {},
   "source": [
    "## Perform pretty bad when dealing with unbalanced data."
   ]
  },
  {
   "cell_type": "code",
   "execution_count": 12,
   "metadata": {},
   "outputs": [
    {
     "data": {
      "image/png": "[encoded data removed]",
      "text/plain": [
       "<matplotlib.figure.Figure at 0x7f283521cdd8>"
      ]
     },
     "metadata": {},
     "output_type": "display_data"
    }
   ],
   "source": [
    "f,ax = plt.subplots()\n",
    "ax.set_xlim([-0.05,1.05])\n",
    "ax.set_ylim([-0.05,1.05])\n",
    "ax.set_xlabel('False Positive Rate')\n",
    "ax.set_ylabel('True Positive Rate')\n",
    "ax.set_title('ROC Curve')\n",
    "ax.plot([0,1],[0,1],'r--')\n",
    "\n",
    "from sklearn.metrics import roc_curve\n",
    "tpr,fpr,_ = roc_curve(y_test,p_proba[:,1])\n",
    "ax.plot(tpr,fpr,c='b',label=\"NN\")\n",
    "ax.legend(loc=\"lower left\")\n",
    "plt.show()"
   ]
  },
  {
   "cell_type": "code",
   "execution_count": null,
   "metadata": {},
   "outputs": [],
   "source": []
  }
 ],
 "metadata": {
  "kernelspec": {
   "display_name": "Python 3",
   "language": "python",
   "name": "python3"
  },
  "language_info": {
   "codemirror_mode": {
    "name": "ipython",
    "version": 3
   },
   "file_extension": ".py",
   "mimetype": "text/x-python",
   "name": "python",
   "nbconvert_exporter": "python",
   "pygments_lexer": "ipython3",
   "version": "3.6.4"
  }
 },
 "nbformat": 4,
 "nbformat_minor": 2
}
