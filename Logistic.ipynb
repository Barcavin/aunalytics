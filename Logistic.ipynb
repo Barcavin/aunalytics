{
 "cells": [
  {
   "cell_type": "markdown",
   "metadata": {},
   "source": [
    "# We mainly do logistic regression in this notebook"
   ]
  },
  {
   "cell_type": "code",
   "execution_count": 20,
   "metadata": {},
   "outputs": [],
   "source": [
    "from pre import complete_data\n",
    "import matplotlib.pyplot as plt\n",
    "%matplotlib inline"
   ]
  },
  {
   "cell_type": "code",
   "execution_count": 21,
   "metadata": {},
   "outputs": [
    {
     "data": {
      "text/plain": [
       "LogisticRegression(C=1.0, class_weight=None, dual=False, fit_intercept=True,\n",
       "          intercept_scaling=1, max_iter=100, multi_class='ovr', n_jobs=1,\n",
       "          penalty='l2', random_state=None, solver='liblinear', tol=0.0001,\n",
       "          verbose=0, warm_start=False)"
      ]
     },
     "execution_count": 21,
     "metadata": {},
     "output_type": "execute_result"
    }
   ],
   "source": [
    "from sklearn.linear_model import LogisticRegression\n",
    "classifier = LogisticRegression()\n",
    "classifier.fit( complete_data.loc[\"train\"].drop(complete_data.loc[\"train\"].select_dtypes(include=\"object\").dtypes.index, axis=1), complete_data.loc[\"train\"][\"class\"] )"
   ]
  },
  {
   "cell_type": "code",
   "execution_count": 22,
   "metadata": {},
   "outputs": [],
   "source": [
    "p = classifier.predict(complete_data.loc[\"test\"].drop(complete_data.loc[\"test\"].select_dtypes(include=\"object\").dtypes.index, axis=1))"
   ]
  },
  {
   "cell_type": "code",
   "execution_count": 23,
   "metadata": {},
   "outputs": [],
   "source": [
    "p_proba = classifier.predict_proba(complete_data.loc[\"test\"].drop(complete_data.loc[\"test\"].select_dtypes(include=\"object\").dtypes.index, axis=1))"
   ]
  },
  {
   "cell_type": "markdown",
   "metadata": {},
   "source": [
    "# The accuracy is: "
   ]
  },
  {
   "cell_type": "code",
   "execution_count": 24,
   "metadata": {},
   "outputs": [
    {
     "name": "stdout",
     "output_type": "stream",
     "text": [
      "0.7995823352373933\n"
     ]
    }
   ],
   "source": [
    "# The accuracy of logistic regression model\n",
    "# The \"class\" in train and test is a little bit different. \"train\":\"<=50K\" while \"test\":\"<=50K.\"\n",
    "from sklearn.metrics import accuracy_score\n",
    "print(accuracy_score(p+\".\",complete_data.loc[\"test\"][\"class\"]))"
   ]
  },
  {
   "cell_type": "markdown",
   "metadata": {},
   "source": [
    "# Confusion matrix:"
   ]
  },
  {
   "cell_type": "code",
   "execution_count": 25,
   "metadata": {},
   "outputs": [
    {
     "name": "stdout",
     "output_type": "stream",
     "text": [
      "Counter({' <=50K.': 12435, ' >50K.': 3846})\n",
      "[[12020   415]\n",
      " [ 2848   998]]\n"
     ]
    }
   ],
   "source": [
    "# Count the freq of each class in test dataset\n",
    "from collections import Counter\n",
    "cnt = Counter(complete_data.loc[\"test\"][\"class\"])\n",
    "print(cnt)\n",
    "\n",
    "# Confusion matrix\n",
    "from sklearn.metrics import confusion_matrix\n",
    "print(confusion_matrix(complete_data.loc[\"test\"][\"class\"],p+\".\"))"
   ]
  },
  {
   "cell_type": "markdown",
   "metadata": {},
   "source": [
    "|Confusion matrix| Predicted True| Predicted False|\n",
    "|---------|-------|------|\n",
    "|Condition True|12020 |415|\n",
    "|Condition False|2848 | 998|\n",
    "\n",
    "(True:<=50K,False:>50K)"
   ]
  },
  {
   "cell_type": "markdown",
   "metadata": {},
   "source": [
    "# AUC ROC"
   ]
  },
  {
   "cell_type": "code",
   "execution_count": 26,
   "metadata": {},
   "outputs": [
    {
     "name": "stdout",
     "output_type": "stream",
     "text": [
      "0.5740055151060083\n"
     ]
    }
   ],
   "source": [
    "from sklearn.metrics import roc_auc_score\n",
    "print(roc_auc_score(complete_data.loc[\"test\"][\"class\"]==\" <=50K.\",p_proba[:,0],average=\"weighted\")) # \"weighted\" accounts for class imbalance by computing the average of binary metrics in which each class’s score is weighted by its presence in the true data sample."
   ]
  },
  {
   "cell_type": "code",
   "execution_count": 27,
   "metadata": {},
   "outputs": [
    {
     "data": {
      "image/png": "[encoded data removed]",
      "text/plain": [
       "<matplotlib.figure.Figure at 0x7f3bdfb60f60>"
      ]
     },
     "metadata": {},
     "output_type": "display_data"
    }
   ],
   "source": [
    "f,ax = plt.subplots()\n",
    "ax.set_xlim([-0.05,1.05])\n",
    "ax.set_ylim([-0.05,1.05])\n",
    "ax.set_xlabel('False Positive Rate')\n",
    "ax.set_ylabel('True Positive Rate')\n",
    "ax.set_title('ROC Curve')\n",
    "ax.plot([0,1],[0,1],'r--')\n",
    "\n",
    "from sklearn.metrics import roc_curve\n",
    "tpr,fpr,_ = roc_curve(complete_data.loc[\"test\"][\"class\"],p_proba[:,0],pos_label = \" <=50K.\")\n",
    "ax.plot(tpr,fpr,c='b',label=\"logistic\")\n",
    "ax.legend(loc=\"lower left\")\n",
    "plt.show()"
   ]
  },
  {
   "cell_type": "markdown",
   "metadata": {},
   "source": [
    "# PR curve"
   ]
  },
  {
   "cell_type": "code",
   "execution_count": 28,
   "metadata": {},
   "outputs": [
    {
     "data": {
      "image/png": "[encoded data removed]",
      "text/plain": [
       "<matplotlib.figure.Figure at 0x7f3bdfb60390>"
      ]
     },
     "metadata": {},
     "output_type": "display_data"
    }
   ],
   "source": [
    "f,ax = plt.subplots()\n",
    "ax.set_xlim([-0.05,1.05])\n",
    "ax.set_ylim([-0.05,1.05])\n",
    "ax.set_xlabel('Recall')\n",
    "ax.set_ylabel('Precision')\n",
    "ax.set_title('PR Curve')\n",
    "\n",
    "from sklearn.metrics import roc_curve\n",
    "from sklearn.metrics import precision_recall_curve\n",
    "p,r,_ = precision_recall_curve(complete_data.loc[\"test\"][\"class\"],p_proba[:,0],pos_label = \" <=50K.\")\n",
    "ax.plot(r,p,c='b',label=\"logistic\")\n",
    "ax.legend(loc=\"lower left\")\n",
    "plt.show()"
   ]
  }
 ],
 "metadata": {
  "kernelspec": {
   "display_name": "Python 3",
   "language": "python",
   "name": "python3"
  },
  "language_info": {
   "codemirror_mode": {
    "name": "ipython",
    "version": 3
   },
   "file_extension": ".py",
   "mimetype": "text/x-python",
   "name": "python",
   "nbconvert_exporter": "python",
   "pygments_lexer": "ipython3",
   "version": "3.6.4"
  }
 },
 "nbformat": 4,
 "nbformat_minor": 2
}
